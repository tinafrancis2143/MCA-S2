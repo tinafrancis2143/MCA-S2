{
 "cells": [
  {
   "cell_type": "code",
   "execution_count": 1,
   "id": "f96ea920",
   "metadata": {},
   "outputs": [],
   "source": [
    "import pymongo\n",
    "conn = pymongo.MongoClient(\"mongodb://localhost:27017/\")"
   ]
  },
  {
   "cell_type": "code",
   "execution_count": 2,
   "id": "8c378dcf",
   "metadata": {},
   "outputs": [],
   "source": [
    "db = conn['college']\n",
    "col=db['studlist']"
   ]
  },
  {
   "cell_type": "code",
   "execution_count": 4,
   "id": "512ce7e1",
   "metadata": {},
   "outputs": [
    {
     "data": {
      "text/plain": [
       "InsertManyResult([ObjectId('6829830fe660aa8940bb6e2a'), 1, ObjectId('6829830fe660aa8940bb6e2b')], acknowledged=True)"
      ]
     },
     "execution_count": 4,
     "metadata": {},
     "output_type": "execute_result"
    }
   ],
   "source": [
    "value=[\n",
    "    {\"Name\":\"Subi\",\"Age\":21,\"Married\":True},\n",
    "    {\"Name\":\"SOORYA\",\"Age\":30,\"Married\":True,\"_id\":1},\n",
    "    {\"Name\":\"Subi\",\"course\":\"MCA\"}\n",
    "        ]\n",
    "col.insert_many(value)\n",
    "\n",
    "# var=col.find({},{\"Name\":1,\"_id\":0})\n",
    "# for i in var: \n",
    "#     print(i)"
   ]
  },
  {
   "cell_type": "code",
   "execution_count": null,
   "id": "1818bb89",
   "metadata": {},
   "outputs": [
    {
     "data": {
      "text/plain": [
       "InsertOneResult(ObjectId('682984fae660aa8940bb6e2c'), acknowledged=True)"
      ]
     },
     "execution_count": 6,
     "metadata": {},
     "output_type": "execute_result"
    }
   ],
   "source": [
    "value = {\"Name\":\"Tina\",\"Age\":33,\"Married\":\"never\"}\n",
    "col.insert_one(value)"
   ]
  },
  {
   "cell_type": "code",
   "execution_count": null,
   "id": "e197c52f",
   "metadata": {},
   "outputs": [
    {
     "name": "stdout",
     "output_type": "stream",
     "text": [
      "{'Name': 'Subi'}\n",
      "{'Name': 'SOORYA'}\n",
      "{'Name': 'Subi'}\n",
      "{'Name': 'Tina'}\n"
     ]
    }
   ],
   "source": [
    "var=col.find({},{\"Name\":1,\"_id\":0})\n",
    "for i in var: \n",
    "    print(i)"
   ]
  },
  {
   "cell_type": "code",
   "execution_count": 9,
   "id": "10ea00f7",
   "metadata": {},
   "outputs": [
    {
     "name": "stdout",
     "output_type": "stream",
     "text": [
      "{'Name': 'Tina'}\n"
     ]
    }
   ],
   "source": [
    "var = col.find({\"Name\":\"Tina\"},{\"Name\":1,\"_id\":0})\n",
    "for i in var:\n",
    "    print(i)"
   ]
  },
  {
   "cell_type": "code",
   "execution_count": 10,
   "id": "8e8d231c",
   "metadata": {},
   "outputs": [
    {
     "name": "stdout",
     "output_type": "stream",
     "text": [
      "{'_id': ObjectId('6829830fe660aa8940bb6e2a'), 'Name': 'Subi', 'Age': 21, 'Married': True}\n"
     ]
    }
   ],
   "source": [
    "var = col.find({\"Name\":\"Subi\",\"Age\":21},{})\n",
    "for i in var:\n",
    "    print(i)"
   ]
  },
  {
   "cell_type": "code",
   "execution_count": 12,
   "id": "8b27263d",
   "metadata": {},
   "outputs": [
    {
     "data": {
      "text/plain": [
       "InsertOneResult(ObjectId('68298769e660aa8940bb6e2d'), acknowledged=True)"
      ]
     },
     "execution_count": 12,
     "metadata": {},
     "output_type": "execute_result"
    }
   ],
   "source": [
    "value={\"Name\":\"ku10 \", \"Age\":21 , \"Married\" :True }\n",
    "col.insert_one(value)\n"
   ]
  },
  {
   "cell_type": "code",
   "execution_count": null,
   "id": "26d53f25",
   "metadata": {},
   "outputs": [
    {
     "name": "stdout",
     "output_type": "stream",
     "text": [
      "{'Name': 'Subi', 'Married': True}\n"
     ]
    }
   ],
   "source": [
    "var = col.find({\"Age\":21},{\"Name\":1,\"Married\":1,\"_id\":0}).limit(1)\n",
    "for i in var:\n",
    "    print(i)"
   ]
  },
  {
   "cell_type": "code",
   "execution_count": 14,
   "id": "79769aaf",
   "metadata": {},
   "outputs": [
    {
     "name": "stdout",
     "output_type": "stream",
     "text": [
      "{'Name': 'Subi', 'Married': True}\n",
      "{'Name': 'ku10 ', 'Married': True}\n"
     ]
    }
   ],
   "source": [
    "var = col.find({\"Age\":21},{\"Name\":1,\"Married\":1,\"_id\":0}).limit(2)\n",
    "for i in var:\n",
    "    print(i)"
   ]
  },
  {
   "cell_type": "code",
   "execution_count": 15,
   "id": "697785b1",
   "metadata": {},
   "outputs": [
    {
     "name": "stdout",
     "output_type": "stream",
     "text": [
      "{'Name': 'Tina', 'Age': 33}\n",
      "{'Name': 'SOORYA', 'Age': 30}\n",
      "{'Name': 'Subi', 'Age': 21}\n",
      "{'Name': 'ku10 ', 'Age': 21}\n",
      "{'Name': 'Subi'}\n"
     ]
    }
   ],
   "source": [
    "var = col.find({},{\"Name\":1,\"Age\":1,\"_id\":0}).sort({\"Age\":-1})\n",
    "for i in var:\n",
    "    print(i)"
   ]
  },
  {
   "cell_type": "code",
   "execution_count": 17,
   "id": "c468519a",
   "metadata": {},
   "outputs": [
    {
     "name": "stdout",
     "output_type": "stream",
     "text": [
      "{'Name': 'SOORYA', 'Age': 30}\n",
      "{'Name': 'Tina', 'Age': 33}\n"
     ]
    }
   ],
   "source": [
    "var = col.find({\"Age\":{\"$gt\":21}},{\"Name\" : 1 , \"Age\":1 ,\"_id\":0})\n",
    "for i in var:\n",
    "    print(i)"
   ]
  },
  {
   "cell_type": "code",
   "execution_count": 19,
   "id": "c48a8c3c",
   "metadata": {},
   "outputs": [
    {
     "name": "stdout",
     "output_type": "stream",
     "text": [
      "{'Name': 'Tina'}\n",
      "{'Name': 'SOORYA'}\n",
      "{'Name': 'Subi'}\n",
      "{'Name': 'ku10 '}\n"
     ]
    }
   ],
   "source": [
    "var = col.find({\"Age\":{\"$gte\":21}},{\"Name\":1,\"_id\":0}).sort({\"Age\":-1})\n",
    "for i in var:\n",
    "    print(i)"
   ]
  },
  {
   "cell_type": "code",
   "execution_count": 20,
   "id": "60bad63a",
   "metadata": {},
   "outputs": [
    {
     "name": "stdout",
     "output_type": "stream",
     "text": [
      "{'Name': 'Subi'}\n",
      "{'Name': 'Tina'}\n",
      "{'Name': 'ku10 '}\n"
     ]
    }
   ],
   "source": [
    "var= col.find({\"$or\":[{\"Age\":21},{\"Married\":\"never\"}]},{\"Name\":1, \"_id\":0})\n",
    "for i in var:\n",
    "    print(i)"
   ]
  },
  {
   "cell_type": "code",
   "execution_count": 25,
   "id": "b4273e48",
   "metadata": {},
   "outputs": [
    {
     "data": {
      "text/plain": [
       "UpdateResult({'n': 2, 'nModified': 1, 'ok': 1.0, 'updatedExisting': True}, acknowledged=True)"
      ]
     },
     "execution_count": 25,
     "metadata": {},
     "output_type": "execute_result"
    }
   ],
   "source": [
    "cond = {\"Age\":21}\n",
    "newvalue={\"$set\":{\"Place\":\"kottayam\"}}\n",
    "col.update_many(cond,newvalue)"
   ]
  },
  {
   "cell_type": "code",
   "execution_count": 26,
   "id": "87086f5c",
   "metadata": {},
   "outputs": [
    {
     "data": {
      "text/plain": [
       "DeleteResult({'n': 1, 'ok': 1.0}, acknowledged=True)"
      ]
     },
     "execution_count": 26,
     "metadata": {},
     "output_type": "execute_result"
    }
   ],
   "source": [
    "col.delete_many({\"Age\":33})"
   ]
  },
  {
   "cell_type": "code",
   "execution_count": 27,
   "id": "c438b353",
   "metadata": {},
   "outputs": [
    {
     "data": {
      "text/plain": [
       "InsertOneResult(ObjectId('68298bb8e660aa8940bb6e2e'), acknowledged=True)"
      ]
     },
     "execution_count": 27,
     "metadata": {},
     "output_type": "execute_result"
    }
   ],
   "source": [
    "value={\"Name\":\"Tina\" , \"Age\":34 , \"Married\":True}\n",
    "col.insert_one(value)"
   ]
  },
  {
   "cell_type": "code",
   "execution_count": 28,
   "id": "550dc1c9",
   "metadata": {},
   "outputs": [
    {
     "data": {
      "text/plain": [
       "UpdateResult({'n': 1, 'nModified': 1, 'ok': 1.0, 'updatedExisting': True}, acknowledged=True)"
      ]
     },
     "execution_count": 28,
     "metadata": {},
     "output_type": "execute_result"
    }
   ],
   "source": [
    "cond ={\"Name\" :\"Tina\"}\n",
    "newvalue = {\"$set\": {\"Place\" :\"gadi\"}}\n",
    "col.update_one(cond,newvalue)"
   ]
  },
  {
   "cell_type": "code",
   "execution_count": 29,
   "id": "e5ad617f",
   "metadata": {},
   "outputs": [
    {
     "name": "stdout",
     "output_type": "stream",
     "text": [
      "{'_id': 1, 'Name': 'SOORYA', 'Age': 30, 'Married': True}\n",
      "{'_id': ObjectId('6829830fe660aa8940bb6e2b'), 'Name': 'Subi', 'course': 'MCA'}\n",
      "{'_id': ObjectId('68298769e660aa8940bb6e2d'), 'Name': 'ku10 ', 'Age': 21, 'Married': True, 'Place': 'kottayam'}\n",
      "{'_id': ObjectId('68298bb8e660aa8940bb6e2e'), 'Name': 'Tina', 'Age': 34, 'Married': True, 'Place': 'gadi'}\n"
     ]
    }
   ],
   "source": [
    "col.delete_one({\"Age\":21})\n",
    "var = col.find()\n",
    "for i in var:\n",
    "    print(i)"
   ]
  },
  {
   "cell_type": "code",
   "execution_count": 30,
   "id": "44324dc1",
   "metadata": {},
   "outputs": [
    {
     "name": "stdout",
     "output_type": "stream",
     "text": [
      "{'Name': 'SOORYA', 'Age': 30, 'Married': True}\n",
      "{'Name': 'Subi', 'course': 'MCA'}\n"
     ]
    }
   ],
   "source": [
    "val = col.find({\"Name\":{\"$regex\":\"^S\"}},{\"_id\":0})\n",
    "for i in val:\n",
    "    print(i)"
   ]
  },
  {
   "cell_type": "code",
   "execution_count": 31,
   "id": "10398cdc",
   "metadata": {},
   "outputs": [
    {
     "name": "stdout",
     "output_type": "stream",
     "text": [
      "{'Name': 'Tina', 'Age': 34, 'Married': True, 'Place': 'gadi'}\n"
     ]
    }
   ],
   "source": [
    "val = col.find({\"Name\":{\"$regex\":\"a$\"}},{\"_id\":0})\n",
    "for i in val:\n",
    "    print(i)"
   ]
  },
  {
   "cell_type": "code",
   "execution_count": 32,
   "id": "c000b0d9",
   "metadata": {},
   "outputs": [
    {
     "name": "stdout",
     "output_type": "stream",
     "text": [
      "{'Name': 'Tina', 'Age': 34, 'Married': True, 'Place': 'gadi'}\n"
     ]
    }
   ],
   "source": [
    "val = col.find({\"Name\":{\"$regex\":\"^T.*a$\"}},{\"_id\":0})\n",
    "for i in val:\n",
    "    print(i)"
   ]
  },
  {
   "cell_type": "code",
   "execution_count": 36,
   "id": "685d3ef5",
   "metadata": {},
   "outputs": [
    {
     "name": "stdout",
     "output_type": "stream",
     "text": [
      "{'Name': 'SOORYA'}\n",
      "{'Name': 'ku10 '}\n",
      "{'Name': 'Tina'}\n"
     ]
    }
   ],
   "source": [
    "val = col.find({\"$and\":[{\"Age\":{\"$gt\":20}},{\"Age\":{\"$lt\":35}}]},{\"Name\":1,\"_id\":0})\n",
    "for i in val:\n",
    "    print(i)"
   ]
  },
  {
   "cell_type": "markdown",
   "id": "f9867ab5",
   "metadata": {},
   "source": []
  }
 ],
 "metadata": {
  "kernelspec": {
   "display_name": "Python 3",
   "language": "python",
   "name": "python3"
  },
  "language_info": {
   "codemirror_mode": {
    "name": "ipython",
    "version": 3
   },
   "file_extension": ".py",
   "mimetype": "text/x-python",
   "name": "python",
   "nbconvert_exporter": "python",
   "pygments_lexer": "ipython3",
   "version": "3.13.3"
  }
 },
 "nbformat": 4,
 "nbformat_minor": 5
}
