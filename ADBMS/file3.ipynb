{
 "cells": [
  {
   "cell_type": "code",
   "execution_count": null,
   "metadata": {},
   "outputs": [],
   "source": [
    "# create database and collection insert value student collection\n",
    "# 1. Display name ( both first name and last name),MArk of all female students in mca -1\n",
    "# 2. display the details of student who secured highest mark in the course mca -1\n",
    "# 3. display all male students who scored a plus grade -1\n",
    "# 4  display top 5 students in mechanical department (top 2 students in mca dept) -1\n",
    "# 5  display female students with marks more than 90 -1\n",
    "# 6  display studnts with mark bn 80 and 90 -1\n",
    "# 7  display students with name starting with a -1\n",
    "# 8  display students from tsr -1\n",
    "# 9  display students neither from malappuram nor from tvm -1"
   ]
  },
  {
   "cell_type": "code",
   "execution_count": 2,
   "metadata": {},
   "outputs": [],
   "source": [
    "import pymongo\n",
    "conn=pymongo.MongoClient(\"mongodb://localhost:27017/\")\n",
    "db = conn[\"mydatabase\"]\n",
    "col =db [\"students\"]"
   ]
  },
  {
   "cell_type": "code",
   "execution_count": 15,
   "metadata": {},
   "outputs": [
    {
     "data": {
      "text/plain": [
       "UpdateResult({'n': 4, 'nModified': 4, 'ok': 1.0, 'updatedExisting': True}, acknowledged=True)"
      ]
     },
     "execution_count": 15,
     "metadata": {},
     "output_type": "execute_result"
    }
   ],
   "source": [
    "values=[{\"first name\":\"arivendu\",\"last name\":\"kj\",\"gender\":\"male\",\"mark\":95,\"grade\":\"aplus\",\"place\":\"kottayam\"},\n",
    "        {\"first name\":\"tina\",\"last name\":\"francis\",\"gender\":\"female\",\"mark\":95,\"grade\":\"aplus\",\"place\":\"thrissur\"},\n",
    "        {\"first name\":\"Afrake\",\"last name\":\"muthumani\",\"gender\":\"male\",\"mark\":85,\"grade\":\"a\",\"place\":\"malappuram\"},\n",
    "        {\"first name\":\"misira\",\"last name\":\"sherif\",\"gender\":\"female\",\"mark\":88,\"grade\":\"a\",\"place\":\"palakkad\"}]\n",
    "\n",
    "# col.update_many(values)\n",
    "col.update_many({}, {\"$set\": {\"course\": \"MCA\"}})\n"
   ]
  },
  {
   "cell_type": "code",
   "execution_count": 5,
   "metadata": {},
   "outputs": [],
   "source": [
    "#1\n",
    "data1=col.find({\"gender\":\"female\"},{\"_id\":0,\"place\":0,\"grade\":0,\"gender\":0})\n"
   ]
  },
  {
   "cell_type": "code",
   "execution_count": 6,
   "metadata": {},
   "outputs": [
    {
     "name": "stdout",
     "output_type": "stream",
     "text": [
      "{'first name': 'tina', 'last name': 'francis', 'mark': 95}\n",
      "{'first name': 'misira', 'last name': 'sherif', 'mark': 88}\n"
     ]
    }
   ],
   "source": [
    "for i in data1:\n",
    "    print(i)"
   ]
  },
  {
   "cell_type": "code",
   "execution_count": 19,
   "metadata": {},
   "outputs": [
    {
     "name": "stdout",
     "output_type": "stream",
     "text": [
      "{'first name': 'arivendu', 'last name': 'kj', 'gender': 'male', 'mark': '95', 'grade': 'aplus', 'place': 'kottayam'}\n"
     ]
    }
   ],
   "source": [
    "#3\n",
    "data2=col.find({\"gender\":\"male\",\"grade\":\"aplus\"},{\"_id\":0})\n",
    "for i in data2:\n",
    "    print(i)\n"
   ]
  },
  {
   "cell_type": "code",
   "execution_count": 11,
   "metadata": {},
   "outputs": [],
   "source": [
    "#7\n",
    "data3=col.find({\"first name\":{\"$regex\":\"^a|^A\"}},{\"_id\":0})\n"
   ]
  },
  {
   "cell_type": "code",
   "execution_count": 12,
   "metadata": {},
   "outputs": [
    {
     "name": "stdout",
     "output_type": "stream",
     "text": [
      "{'first name': 'arivendu', 'last name': 'kj', 'gender': 'male', 'mark': 95, 'grade': 'aplus', 'place': 'kottayam'}\n",
      "{'first name': 'Afrake', 'last name': 'muthumani', 'gender': 'male', 'mark': 85, 'grade': 'a', 'place': 'malappuram'}\n"
     ]
    }
   ],
   "source": [
    "for i in data3:\n",
    "    print(i)"
   ]
  },
  {
   "cell_type": "code",
   "execution_count": 31,
   "metadata": {},
   "outputs": [
    {
     "name": "stdout",
     "output_type": "stream",
     "text": [
      "{'first name': 'tina', 'last name': 'francis', 'gender': 'female', 'mark': '95', 'grade': 'aplus', 'place': 'thrissur'}\n"
     ]
    }
   ],
   "source": [
    "#8\n",
    "data4=col.find({\"place\":\"thrissur\"},{\"_id\":0})\n",
    "for i in data4:\n",
    "    print(i)"
   ]
  },
  {
   "cell_type": "code",
   "execution_count": 48,
   "metadata": {},
   "outputs": [
    {
     "name": "stdout",
     "output_type": "stream",
     "text": [
      "{'first name': 'tina', 'last name': 'francis', 'gender': 'female', 'mark': 95, 'grade': 'aplus', 'place': 'thrissur', 'course': 'MCA'}\n"
     ]
    }
   ],
   "source": [
    "#5\n",
    "data5=col.find({\"gender\":\"female\",\"mark\": {\"$gt\" : 90} },{\"_id\":0})\n",
    "for i in data5:\n",
    "    print(i)"
   ]
  },
  {
   "cell_type": "code",
   "execution_count": null,
   "metadata": {},
   "outputs": [
    {
     "name": "stdout",
     "output_type": "stream",
     "text": [
      "{'first name': 'afrake', 'last name': 'muthumani', 'gender': 'male', 'mark': 85, 'grade': 'a', 'place': 'malappuram'}\n",
      "{'first name': 'misira', 'last name': 'sherif', 'gender': 'female', 'mark': 88, 'grade': 'a', 'place': 'palakkad'}\n"
     ]
    }
   ],
   "source": [
    "#6\n",
    "\n",
    "data6 = col.find({\"mark\": {\"$gte\": 80, \"$lte\": 90}}, {\"_id\": 0})\n",
    "for i in data6:\n",
    "    print(i)\n"
   ]
  },
  {
   "cell_type": "code",
   "execution_count": null,
   "metadata": {},
   "outputs": [
    {
     "name": "stdout",
     "output_type": "stream",
     "text": [
      "{'first name': 'tina', 'last name': 'francis', 'mark': 95}\n",
      "{'first name': 'misira', 'last name': 'sherif', 'mark': 88}\n"
     ]
    }
   ],
   "source": [
    "data10=col.find({\"gender\":\"female\"},{\"_id\":0,\"mark\":1,\"first name\":1,\"last name\":1})\n",
    "for i in data10:\n",
    "    print(i)\n",
    "\n",
    "\n"
   ]
  },
  {
   "cell_type": "code",
   "execution_count": 37,
   "metadata": {},
   "outputs": [
    {
     "name": "stdout",
     "output_type": "stream",
     "text": [
      "{'first name': 'arivendu', 'last name': 'kj', 'gender': 'male', 'mark': 95, 'grade': 'aplus', 'place': 'kottayam', 'course': 'MCA'}\n",
      "{'first name': 'tina', 'last name': 'francis', 'gender': 'female', 'mark': 95, 'grade': 'aplus', 'place': 'thrissur', 'course': 'MCA'}\n",
      "{'first name': 'misira', 'last name': 'sherif', 'gender': 'female', 'mark': 88, 'grade': 'a', 'place': 'palakkad', 'course': 'MCA'}\n"
     ]
    }
   ],
   "source": [
    "#9\n",
    "data11=col.find({\"place\":{\"$nin\":[\"malappuram\",\"trivandrum\"]}},{\"_id\":0})\n",
    "for i in data11:\n",
    "    print(i)"
   ]
  },
  {
   "cell_type": "code",
   "execution_count": null,
   "metadata": {},
   "outputs": [
    {
     "name": "stdout",
     "output_type": "stream",
     "text": [
      "{'first name': 'arivendu', 'last name': 'kj', 'gender': 'male', 'mark': 95, 'grade': 'aplus', 'place': 'kottayam', 'course': 'MCA'}\n"
     ]
    }
   ],
   "source": [
    "#2\n",
    "data12 = col.find({\"course\":\"MCA\"},{\"_id\":0}).sort(\"mark\",-1).limit(1)\n",
    "for doc in data12:\n",
    "    print(doc)"
   ]
  },
  {
   "cell_type": "code",
   "execution_count": null,
   "metadata": {},
   "outputs": [
    {
     "name": "stdout",
     "output_type": "stream",
     "text": [
      "{'first name': 'arivendu', 'last name': 'kj', 'gender': 'male', 'mark': 95, 'grade': 'aplus', 'place': 'kottayam', 'course': 'MCA'}\n",
      "{'first name': 'tina', 'last name': 'francis', 'gender': 'female', 'mark': 95, 'grade': 'aplus', 'place': 'thrissur', 'course': 'MCA'}\n"
     ]
    }
   ],
   "source": [
    "#4\n",
    "data13 = col.find({\"course\":\"MCA\"},{\"_id\":0}).sort(\"mark\",-1).limit(2)\n",
    "for doc in data13:\n",
    "    print(doc)"
   ]
  }
 ],
 "metadata": {
  "kernelspec": {
   "display_name": "Python 3",
   "language": "python",
   "name": "python3"
  },
  "language_info": {
   "codemirror_mode": {
    "name": "ipython",
    "version": 3
   },
   "file_extension": ".py",
   "mimetype": "text/x-python",
   "name": "python",
   "nbconvert_exporter": "python",
   "pygments_lexer": "ipython3",
   "version": "3.11.9"
  }
 },
 "nbformat": 4,
 "nbformat_minor": 2
}
