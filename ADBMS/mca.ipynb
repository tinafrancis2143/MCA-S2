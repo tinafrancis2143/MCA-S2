{
 "cells": [
  {
   "cell_type": "code",
   "execution_count": 1,
   "id": "4a8ed4b8",
   "metadata": {},
   "outputs": [],
   "source": [
    "import pymongo\n",
    "conn =pymongo.MongoClient(\"mongodb://localhost:27017/\")"
   ]
  },
  {
   "cell_type": "code",
   "execution_count": 3,
   "id": "375884c7",
   "metadata": {},
   "outputs": [],
   "source": [
    "db=conn['college']\n",
    "col=db['mca']"
   ]
  },
  {
   "cell_type": "code",
   "execution_count": 4,
   "id": "94a271a1",
   "metadata": {},
   "outputs": [
    {
     "data": {
      "text/plain": [
       "InsertManyResult([ObjectId('6829b191d197ee84babb99b7'), ObjectId('6829b191d197ee84babb99b8'), ObjectId('6829b191d197ee84babb99b9'), ObjectId('6829b191d197ee84babb99ba'), ObjectId('6829b191d197ee84babb99bb')], acknowledged=True)"
      ]
     },
     "execution_count": 4,
     "metadata": {},
     "output_type": "execute_result"
    }
   ],
   "source": [
    "values =[\n",
    "    {\"Firstname\":\"Kajel\",\"Lastname\":\"Aggarwal\",\"Gender\":\"F\",\"Course\":\"Mech\",\"Place\":\"KTM\",\"Mark\":95,\"Grade\":\"A+\"},\n",
    "    {\"Firstname\":\"Roy\",\"Lastname\":\"Mathew\",\"Gender\":\"M\",\"Course\":\"MCA\",\"Place\":\"TVM\",\"Mark\":35,\"Grade\":\"D\"},\n",
    "    {\"Firstname\":\"Kunju\",\"Lastname\":\"Vava\",\"Gender\":\"M\",\"Course\":\"Mech\",\"Place\":\"MLM\",\"Mark\":70,\"Grade\":\"B\"},\n",
    "    {\"Firstname\":\"Adhi\",\"Lastname\":\"Lal\",\"Gender\":\"M\",\"Course\":\"Mech\",\"Place\":\"KLM\",\"Mark\":81,\"Grade\":\"B+\"},\n",
    "    {\"Firstname\":\"Anu\",\"Lastname\":\"Mathew\",\"Gender\":\"F\",\"Course\":\"MCA\",\"Place\":\"TVM\",\"Mark\":95,\"Grade\":\"A+\"},\n",
    "]\n",
    "col.insert_many(values)"
   ]
  },
  {
   "cell_type": "code",
   "execution_count": 5,
   "id": "4636c5f7",
   "metadata": {},
   "outputs": [
    {
     "name": "stdout",
     "output_type": "stream",
     "text": [
      "{'_id': ObjectId('6829b191d197ee84babb99b7'), 'Firstname': 'Kajel', 'Lastname': 'Aggarwal'}\n",
      "{'_id': ObjectId('6829b191d197ee84babb99bb'), 'Firstname': 'Anu', 'Lastname': 'Mathew'}\n"
     ]
    }
   ],
   "source": [
    "data=col.find({\"Gender\":\"F\"},{\"Firstname\":1,\"Lastname\":1})\n",
    "for i in data:\n",
    "    print(i)"
   ]
  },
  {
   "cell_type": "code",
   "execution_count": 8,
   "id": "f9b1cc41",
   "metadata": {},
   "outputs": [
    {
     "name": "stdout",
     "output_type": "stream",
     "text": [
      "{'_id': ObjectId('6829b191d197ee84babb99bb'), 'Firstname': 'Anu', 'Lastname': 'Mathew', 'Gender': 'F', 'Course': 'MCA', 'Place': 'TVM', 'Mark': 95, 'Grade': 'A+'}\n"
     ]
    }
   ],
   "source": [
    "data = col.find({\"Course\":\"MCA\"}).sort({\"Mark\":-1}).limit(1)\n",
    "for i in data:\n",
    "    print(i)"
   ]
  },
  {
   "cell_type": "code",
   "execution_count": 9,
   "id": "510197eb",
   "metadata": {},
   "outputs": [],
   "source": [
    "data=col.find({\"$and\":[{\"Gender\":\"M\"},{\"Grade\":\"A+\"}]})\n",
    "for i in data:\n",
    "    print(i)"
   ]
  },
  {
   "cell_type": "code",
   "execution_count": 10,
   "id": "a59768a1",
   "metadata": {},
   "outputs": [
    {
     "data": {
      "text/plain": [
       "InsertOneResult(ObjectId('6829b528d197ee84babb99bc'), acknowledged=True)"
      ]
     },
     "execution_count": 10,
     "metadata": {},
     "output_type": "execute_result"
    }
   ],
   "source": [
    "values ={\"Firstname\":\"tina\",\"Lastname\":\"Aggarwal\",\"Gender\":\"M\",\"Course\":\"Mech\",\"Place\":\"KTM\",\"Mark\":85,\"Grade\":\"B\"}\n",
    "col.insert_one(values)"
   ]
  },
  {
   "cell_type": "code",
   "execution_count": 11,
   "id": "485848da",
   "metadata": {},
   "outputs": [
    {
     "name": "stdout",
     "output_type": "stream",
     "text": [
      "{'_id': ObjectId('6829b191d197ee84babb99b7'), 'Firstname': 'Kajel', 'Lastname': 'Aggarwal', 'Gender': 'F', 'Course': 'Mech', 'Place': 'KTM', 'Mark': 95, 'Grade': 'A+'}\n",
      "{'_id': ObjectId('6829b528d197ee84babb99bc'), 'Firstname': 'tina', 'Lastname': 'Aggarwal', 'Gender': 'M', 'Course': 'Mech', 'Place': 'KTM', 'Mark': 85, 'Grade': 'B'}\n",
      "{'_id': ObjectId('6829b191d197ee84babb99ba'), 'Firstname': 'Adhi', 'Lastname': 'Lal', 'Gender': 'M', 'Course': 'Mech', 'Place': 'KLM', 'Mark': 81, 'Grade': 'B+'}\n"
     ]
    }
   ],
   "source": [
    "data = col.find({\"Course\":\"Mech\"}).sort({\"Mark\":-1}).limit(3)\n",
    "for i in data:\n",
    "    print(i)"
   ]
  },
  {
   "cell_type": "code",
   "execution_count": 12,
   "id": "f77478fd",
   "metadata": {},
   "outputs": [
    {
     "name": "stdout",
     "output_type": "stream",
     "text": [
      "{'_id': ObjectId('6829b191d197ee84babb99b7'), 'Firstname': 'Kajel', 'Lastname': 'Aggarwal'}\n",
      "{'_id': ObjectId('6829b191d197ee84babb99bb'), 'Firstname': 'Anu', 'Lastname': 'Mathew'}\n"
     ]
    }
   ],
   "source": [
    "data=col.find({\"$and\":[{\"Gender\":\"F\"},{\"Mark\":{\"$gt\":90}}]},{\"Firstname\":1,\"Lastname\":1})\n",
    "for i in data:\n",
    "    print(i)"
   ]
  },
  {
   "cell_type": "code",
   "execution_count": 13,
   "id": "9c26267d",
   "metadata": {},
   "outputs": [
    {
     "name": "stdout",
     "output_type": "stream",
     "text": [
      "{'_id': ObjectId('6829b191d197ee84babb99ba'), 'Firstname': 'Adhi'}\n",
      "{'_id': ObjectId('6829b528d197ee84babb99bc'), 'Firstname': 'tina'}\n"
     ]
    }
   ],
   "source": [
    "data=col.find({\"$and\":[{\"Mark\":{\"$gt\":80}},{\"Mark\":{\"$lt\":90}}]},{\"Firstname\":1})\n",
    "for i in data:\n",
    "    print (i)"
   ]
  },
  {
   "cell_type": "code",
   "execution_count": 15,
   "id": "f13b21b0",
   "metadata": {},
   "outputs": [
    {
     "name": "stdout",
     "output_type": "stream",
     "text": [
      "{'_id': ObjectId('6829b528d197ee84babb99bc'), 'Firstname': 'tina', 'Lastname': 'Aggarwal', 'Gender': 'M', 'Course': 'Mech', 'Place': 'KTM', 'Mark': 85, 'Grade': 'B'}\n"
     ]
    }
   ],
   "source": [
    "data=col.find({\"Firstname\":{\"$regex\":\"^t\"}})\n",
    "for i in data:\n",
    "    print(i)"
   ]
  },
  {
   "cell_type": "code",
   "execution_count": 16,
   "id": "62d23674",
   "metadata": {},
   "outputs": [
    {
     "name": "stdout",
     "output_type": "stream",
     "text": [
      "{'_id': ObjectId('6829b191d197ee84babb99b7'), 'Firstname': 'Kajel', 'Lastname': 'Aggarwal', 'Gender': 'F', 'Course': 'Mech', 'Place': 'KTM', 'Mark': 95, 'Grade': 'A+'}\n",
      "{'_id': ObjectId('6829b528d197ee84babb99bc'), 'Firstname': 'tina', 'Lastname': 'Aggarwal', 'Gender': 'M', 'Course': 'Mech', 'Place': 'KTM', 'Mark': 85, 'Grade': 'B'}\n"
     ]
    }
   ],
   "source": [
    "data = col.find({\"Place\":\"KTM\"})\n",
    "for i in data:\n",
    "    print(i)"
   ]
  },
  {
   "cell_type": "code",
   "execution_count": 20,
   "id": "568d3581",
   "metadata": {},
   "outputs": [
    {
     "name": "stdout",
     "output_type": "stream",
     "text": [
      "{'_id': ObjectId('6829b191d197ee84babb99b9'), 'Firstname': 'Kunju', 'Lastname': 'Vava', 'Gender': 'M', 'Course': 'Mech', 'Place': 'MLM', 'Mark': 70, 'Grade': 'B'}\n",
      "{'_id': ObjectId('6829b191d197ee84babb99ba'), 'Firstname': 'Adhi', 'Lastname': 'Lal', 'Gender': 'M', 'Course': 'Mech', 'Place': 'KLM', 'Mark': 81, 'Grade': 'B+'}\n"
     ]
    }
   ],
   "source": [
    "data=col.find({\"$and\":[{\"Place\":{\"$nin\":[\"KTM\"]}},{\"Course\":{\"$nin\":[\"MCA\"]}}]})\n",
    "for i in data:\n",
    "    print(i)"
   ]
  },
  {
   "cell_type": "code",
   "execution_count": 21,
   "id": "45408e2e",
   "metadata": {},
   "outputs": [
    {
     "name": "stdout",
     "output_type": "stream",
     "text": [
      "{'_id': ObjectId('6829b191d197ee84babb99bb'), 'Firstname': 'Anu', 'Lastname': 'Mathew', 'Gender': 'F', 'Course': 'MCA', 'Place': 'TVM', 'Mark': 95, 'Grade': 'A+'}\n"
     ]
    }
   ],
   "source": [
    "data = col.find({\"$and\":[{\"Gender\":\"F\"},{\"$or\":[{\"Place\":\"KLM\"},{\"Place\":\"TVM\"}]}]})\n",
    "for i in data:\n",
    "    print(i)"
   ]
  },
  {
   "cell_type": "code",
   "execution_count": null,
   "id": "5934cf28",
   "metadata": {},
   "outputs": [],
   "source": []
  }
 ],
 "metadata": {
  "kernelspec": {
   "display_name": "Python 3",
   "language": "python",
   "name": "python3"
  },
  "language_info": {
   "codemirror_mode": {
    "name": "ipython",
    "version": 3
   },
   "file_extension": ".py",
   "mimetype": "text/x-python",
   "name": "python",
   "nbconvert_exporter": "python",
   "pygments_lexer": "ipython3",
   "version": "3.13.3"
  }
 },
 "nbformat": 4,
 "nbformat_minor": 5
}
